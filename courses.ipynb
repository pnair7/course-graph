{
 "cells": [
  {
   "cell_type": "code",
   "execution_count": 1,
   "metadata": {},
   "outputs": [],
   "source": [
    "import pandas as pd\n",
    "import numpy as np\n",
    "from bs4 import BeautifulSoup\n",
    "import requests\n",
    "import time\n",
    "import re\n",
    "import json\n",
    "import random"
   ]
  },
  {
   "cell_type": "code",
   "execution_count": 2,
   "metadata": {},
   "outputs": [],
   "source": [
    "# url = 'https://ucsd.edu/catalog/front/courses.html'\n",
    "# soup = BeautifulSoup(requests.get(url).content, 'html.parser')\n",
    "# print(soup.prettify())"
   ]
  },
  {
   "cell_type": "code",
   "execution_count": 3,
   "metadata": {},
   "outputs": [],
   "source": [
    "# cat_string = 'https://ucsd.edu/catalog'\n",
    "# depts = [str(elem).split('\\\"')[1].replace('..', cat_string) for elem in soup.find_all('a', text = 'courses')]\n",
    "# depts"
   ]
  },
  {
   "cell_type": "code",
   "execution_count": 4,
   "metadata": {},
   "outputs": [],
   "source": [
    "# total = pd.DataFrame()\n",
    "\n",
    "# for url in depts:\n",
    "#     soup = BeautifulSoup(requests.get(url).content, 'html.parser')\n",
    "#     names = soup.find_all(class_='course-name')\n",
    "\n",
    "#     desc = []\n",
    "#     for tag in names:\n",
    "#         desc.append(tag.find_next('p').text)\n",
    "#     names = [i.text for i in names]\n",
    "#     df = pd.DataFrame()\n",
    "\n",
    "#     codes = []\n",
    "#     departments = []\n",
    "#     titles = []\n",
    "#     units = []\n",
    "#     descriptions = []\n",
    "#     prereqs = []\n",
    "#     for i in range(len(names)):\n",
    "#         name = names[i]\n",
    "#         print(name)\n",
    "#         codes.append(name.split('.')[0].split('or')[0])\n",
    "#         departments.append(name.split('.')[0].split()[0])\n",
    "#         try:\n",
    "#             titles.append(' '.join(name.split('.')[1].split()))\n",
    "#         except:\n",
    "#             titles.append(' '.join(name.split()[:2]))\n",
    "\n",
    "#         try:\n",
    "#             units.append(int(name.split('(')[1][0]))\n",
    "#         except:\n",
    "#             units.append(np.nan)\n",
    "\n",
    "#         description = desc[i]\n",
    "#         descriptions.append(' '.join(description.split()))\n",
    "\n",
    "#         try:\n",
    "#             prereqs.append(' '.join(description.split('Prerequisites:')[1].replace('.', '').split()))\n",
    "#         except:\n",
    "#             prereqs.append(None)\n",
    "\n",
    "\n",
    "#     df['code'] = codes\n",
    "#     df['dept'] = departments\n",
    "#     df['title'] = titles\n",
    "#     df['min_units'] = units\n",
    "#     df['description'] = descriptions\n",
    "#     df['prereqs'] = prereqs\n",
    "#     total = total.append(df)\n",
    "#     print(url)\n",
    "#     time.sleep(1)"
   ]
  },
  {
   "cell_type": "code",
   "execution_count": 5,
   "metadata": {},
   "outputs": [],
   "source": [
    "# total"
   ]
  },
  {
   "cell_type": "code",
   "execution_count": 6,
   "metadata": {},
   "outputs": [],
   "source": [
    "# total.to_csv('all_courses.csv')"
   ]
  },
  {
   "cell_type": "code",
   "execution_count": 7,
   "metadata": {},
   "outputs": [
    {
     "data": {
      "text/html": [
       "<div>\n",
       "<style scoped>\n",
       "    .dataframe tbody tr th:only-of-type {\n",
       "        vertical-align: middle;\n",
       "    }\n",
       "\n",
       "    .dataframe tbody tr th {\n",
       "        vertical-align: top;\n",
       "    }\n",
       "\n",
       "    .dataframe thead th {\n",
       "        text-align: right;\n",
       "    }\n",
       "</style>\n",
       "<table border=\"1\" class=\"dataframe\">\n",
       "  <thead>\n",
       "    <tr style=\"text-align: right;\">\n",
       "      <th></th>\n",
       "      <th>code</th>\n",
       "      <th>dept</th>\n",
       "      <th>title</th>\n",
       "      <th>min_units</th>\n",
       "      <th>description</th>\n",
       "      <th>prereqs</th>\n",
       "    </tr>\n",
       "  </thead>\n",
       "  <tbody>\n",
       "    <tr>\n",
       "      <th>0</th>\n",
       "      <td>AIP 97</td>\n",
       "      <td>AIP</td>\n",
       "      <td>Academic Internship (2, 4)</td>\n",
       "      <td>2.0</td>\n",
       "      <td>Individual placements for field learning. Must...</td>\n",
       "      <td>lower-division standing, completion of thirty ...</td>\n",
       "    </tr>\n",
       "    <tr>\n",
       "      <th>1</th>\n",
       "      <td>AIP 197</td>\n",
       "      <td>AIP</td>\n",
       "      <td>Academic Internship Program (2, 4, 6, 8, 10, 12)</td>\n",
       "      <td>2.0</td>\n",
       "      <td>Individual internship placements integrated wi...</td>\n",
       "      <td>upper-division standing; department approval</td>\n",
       "    </tr>\n",
       "    <tr>\n",
       "      <th>2</th>\n",
       "      <td>AIP 197DC</td>\n",
       "      <td>AIP</td>\n",
       "      <td>UCDC: Washington, DC Internship (6, 8, 10)</td>\n",
       "      <td>6.0</td>\n",
       "      <td>This internship is attached to the University ...</td>\n",
       "      <td>upper-division standing; department approval</td>\n",
       "    </tr>\n",
       "    <tr>\n",
       "      <th>3</th>\n",
       "      <td>AIP 197F</td>\n",
       "      <td>AIP</td>\n",
       "      <td>Academic Internship Program—Foreign (4, 8, 12)</td>\n",
       "      <td>4.0</td>\n",
       "      <td>Individual placements for field learning oppor...</td>\n",
       "      <td>ninety units completed; 25 minimum cumulative ...</td>\n",
       "    </tr>\n",
       "    <tr>\n",
       "      <th>4</th>\n",
       "      <td>AIP 197P</td>\n",
       "      <td>AIP</td>\n",
       "      <td>Public Service Internship (4, 8, 12)</td>\n",
       "      <td>4.0</td>\n",
       "      <td>Individual placements for field learning perfo...</td>\n",
       "      <td>ninety units completed; 25 minimum cumulative ...</td>\n",
       "    </tr>\n",
       "    <tr>\n",
       "      <th>...</th>\n",
       "      <td>...</td>\n",
       "      <td>...</td>\n",
       "      <td>...</td>\n",
       "      <td>...</td>\n",
       "      <td>...</td>\n",
       "      <td>...</td>\n",
       "    </tr>\n",
       "    <tr>\n",
       "      <th>6302</th>\n",
       "      <td>WCWP 10B</td>\n",
       "      <td>WCWP</td>\n",
       "      <td>The Writing Course B (4)</td>\n",
       "      <td>4.0</td>\n",
       "      <td>A seminar-style course in reading and writing ...</td>\n",
       "      <td>satisfaction of WCWP 10A and must be a Warren ...</td>\n",
       "    </tr>\n",
       "    <tr>\n",
       "      <th>6303</th>\n",
       "      <td>WCWP 100</td>\n",
       "      <td>WCWP</td>\n",
       "      <td>Academic Writing (4)</td>\n",
       "      <td>4.0</td>\n",
       "      <td>An upper-division workshop course in argumenta...</td>\n",
       "      <td>junior/senior standing and must be a Warren Co...</td>\n",
       "    </tr>\n",
       "    <tr>\n",
       "      <th>6304</th>\n",
       "      <td>WCWP 160</td>\n",
       "      <td>WCWP</td>\n",
       "      <td>Technical Writing for Scientists and Engineers...</td>\n",
       "      <td>4.0</td>\n",
       "      <td>An upper-division workshop-style writing cours...</td>\n",
       "      <td>junior/senior standing</td>\n",
       "    </tr>\n",
       "    <tr>\n",
       "      <th>6305</th>\n",
       "      <td>WARR 189</td>\n",
       "      <td>WARR</td>\n",
       "      <td>Academic Mentoring and the Writing Process (2)</td>\n",
       "      <td>2.0</td>\n",
       "      <td>Students will gain a fundamental understanding...</td>\n",
       "      <td>permission of instructor is required to enroll</td>\n",
       "    </tr>\n",
       "    <tr>\n",
       "      <th>6306</th>\n",
       "      <td>WCWP 500</td>\n",
       "      <td>WCWP</td>\n",
       "      <td>Apprentice Teaching in WCWP (2 or 4)</td>\n",
       "      <td>2.0</td>\n",
       "      <td>Consideration of pedagogical methods appropria...</td>\n",
       "      <td>graduate standing</td>\n",
       "    </tr>\n",
       "  </tbody>\n",
       "</table>\n",
       "<p>6307 rows × 6 columns</p>\n",
       "</div>"
      ],
      "text/plain": [
       "           code  dept                                              title  \\\n",
       "0        AIP 97   AIP                         Academic Internship (2, 4)   \n",
       "1       AIP 197   AIP   Academic Internship Program (2, 4, 6, 8, 10, 12)   \n",
       "2     AIP 197DC   AIP         UCDC: Washington, DC Internship (6, 8, 10)   \n",
       "3      AIP 197F   AIP     Academic Internship Program—Foreign (4, 8, 12)   \n",
       "4      AIP 197P   AIP               Public Service Internship (4, 8, 12)   \n",
       "...         ...   ...                                                ...   \n",
       "6302   WCWP 10B  WCWP                           The Writing Course B (4)   \n",
       "6303   WCWP 100  WCWP                               Academic Writing (4)   \n",
       "6304   WCWP 160  WCWP  Technical Writing for Scientists and Engineers...   \n",
       "6305   WARR 189  WARR     Academic Mentoring and the Writing Process (2)   \n",
       "6306   WCWP 500  WCWP               Apprentice Teaching in WCWP (2 or 4)   \n",
       "\n",
       "      min_units                                        description  \\\n",
       "0           2.0  Individual placements for field learning. Must...   \n",
       "1           2.0  Individual internship placements integrated wi...   \n",
       "2           6.0  This internship is attached to the University ...   \n",
       "3           4.0  Individual placements for field learning oppor...   \n",
       "4           4.0  Individual placements for field learning perfo...   \n",
       "...         ...                                                ...   \n",
       "6302        4.0  A seminar-style course in reading and writing ...   \n",
       "6303        4.0  An upper-division workshop course in argumenta...   \n",
       "6304        4.0  An upper-division workshop-style writing cours...   \n",
       "6305        2.0  Students will gain a fundamental understanding...   \n",
       "6306        2.0  Consideration of pedagogical methods appropria...   \n",
       "\n",
       "                                                prereqs  \n",
       "0     lower-division standing, completion of thirty ...  \n",
       "1          upper-division standing; department approval  \n",
       "2          upper-division standing; department approval  \n",
       "3     ninety units completed; 25 minimum cumulative ...  \n",
       "4     ninety units completed; 25 minimum cumulative ...  \n",
       "...                                                 ...  \n",
       "6302  satisfaction of WCWP 10A and must be a Warren ...  \n",
       "6303  junior/senior standing and must be a Warren Co...  \n",
       "6304                             junior/senior standing  \n",
       "6305     permission of instructor is required to enroll  \n",
       "6306                                  graduate standing  \n",
       "\n",
       "[6307 rows x 6 columns]"
      ]
     },
     "execution_count": 7,
     "metadata": {},
     "output_type": "execute_result"
    }
   ],
   "source": [
    "df = pd.read_csv('data/all_courses.csv').drop(columns = ['Unnamed: 0'])\n",
    "df"
   ]
  },
  {
   "cell_type": "code",
   "execution_count": 8,
   "metadata": {},
   "outputs": [],
   "source": [
    "# df['dept'].apply(len).value_counts()"
   ]
  },
  {
   "cell_type": "code",
   "execution_count": 9,
   "metadata": {},
   "outputs": [],
   "source": [
    "unique = df['dept'].unique()\n",
    "\n",
    "def prereqs_to_list(prereqs):\n",
    "    if isinstance(prereqs, float):\n",
    "        return []\n",
    "    out_list = []\n",
    "    \n",
    "    # explicitly named courses\n",
    "    for dept in unique:\n",
    "        if dept in prereqs:\n",
    "            for code in df[df['dept'] == dept]['code']:\n",
    "                if re.search(code + '\\W', prereqs):\n",
    "                    out_list.append(code)\n",
    "                    \n",
    "    # or/and (as in MATH 11 or 18)\n",
    "    or_and = re.compile('([A-Z]{2,} [0-9]+[A-Z]* (or|and) [0-9]+[A-Z]*)')\n",
    "    more_courses = [i[0] for i in re.findall(or_and, prereqs)]\n",
    "    new_matches = []\n",
    "    for match in more_courses:\n",
    "        dept = match.split()[0]\n",
    "        code = match.split()[-1]\n",
    "        new_matches.append(dept + ' ' + code)\n",
    "    \n",
    "    # hyphens\n",
    "    hyphens = re.compile('([A-Z]{2,} [0-9]+[A-Z]*\\s*(–|-)\\s*[0-9]*[A-Z]*)')\n",
    "    more_courses = [i[0] for i in re.findall(hyphens, prereqs)]\n",
    "    for match in more_courses:\n",
    "        dept = match.split()[0]\n",
    "        code = match.split()[-1]\n",
    "        if '-' in code:\n",
    "            code_letter = code.split('-')[-1]\n",
    "        else:\n",
    "            code_letter = code.split('–')[-1]\n",
    "        code_start = (re.findall('^[0-9]+', code)[0])\n",
    "        new_match = dept + ' ' + code_start + code_letter\n",
    "        new_matches.append(new_match)\n",
    "    \n",
    "    for match in new_matches:\n",
    "        if match in df['code']:\n",
    "            out_list.append(match)\n",
    "    \n",
    "    return list(set(out_list))"
   ]
  },
  {
   "cell_type": "code",
   "execution_count": 10,
   "metadata": {},
   "outputs": [],
   "source": [
    "lists = df['prereqs'].apply(prereqs_to_list)"
   ]
  },
  {
   "cell_type": "code",
   "execution_count": 11,
   "metadata": {},
   "outputs": [
    {
     "data": {
      "text/plain": [
       "0               []\n",
       "1               []\n",
       "2               []\n",
       "3               []\n",
       "4               []\n",
       "           ...    \n",
       "6302    [WCWP 10A]\n",
       "6303            []\n",
       "6304            []\n",
       "6305            []\n",
       "6306            []\n",
       "Name: prereqs, Length: 6307, dtype: object"
      ]
     },
     "execution_count": 11,
     "metadata": {},
     "output_type": "execute_result"
    }
   ],
   "source": [
    "lists"
   ]
  },
  {
   "cell_type": "code",
   "execution_count": 12,
   "metadata": {},
   "outputs": [
    {
     "data": {
      "text/html": [
       "<div>\n",
       "<style scoped>\n",
       "    .dataframe tbody tr th:only-of-type {\n",
       "        vertical-align: middle;\n",
       "    }\n",
       "\n",
       "    .dataframe tbody tr th {\n",
       "        vertical-align: top;\n",
       "    }\n",
       "\n",
       "    .dataframe thead th {\n",
       "        text-align: right;\n",
       "    }\n",
       "</style>\n",
       "<table border=\"1\" class=\"dataframe\">\n",
       "  <thead>\n",
       "    <tr style=\"text-align: right;\">\n",
       "      <th></th>\n",
       "      <th>code</th>\n",
       "      <th>dept</th>\n",
       "      <th>title</th>\n",
       "      <th>min_units</th>\n",
       "      <th>description</th>\n",
       "      <th>prereqs</th>\n",
       "      <th>prereq_list</th>\n",
       "    </tr>\n",
       "  </thead>\n",
       "  <tbody>\n",
       "    <tr>\n",
       "      <th>0</th>\n",
       "      <td>AIP 97</td>\n",
       "      <td>AIP</td>\n",
       "      <td>Academic Internship (2, 4)</td>\n",
       "      <td>2.0</td>\n",
       "      <td>Individual placements for field learning. Must...</td>\n",
       "      <td>lower-division standing, completion of thirty ...</td>\n",
       "      <td>[]</td>\n",
       "    </tr>\n",
       "    <tr>\n",
       "      <th>1</th>\n",
       "      <td>AIP 197</td>\n",
       "      <td>AIP</td>\n",
       "      <td>Academic Internship Program (2, 4, 6, 8, 10, 12)</td>\n",
       "      <td>2.0</td>\n",
       "      <td>Individual internship placements integrated wi...</td>\n",
       "      <td>upper-division standing; department approval</td>\n",
       "      <td>[]</td>\n",
       "    </tr>\n",
       "    <tr>\n",
       "      <th>2</th>\n",
       "      <td>AIP 197DC</td>\n",
       "      <td>AIP</td>\n",
       "      <td>UCDC: Washington, DC Internship (6, 8, 10)</td>\n",
       "      <td>6.0</td>\n",
       "      <td>This internship is attached to the University ...</td>\n",
       "      <td>upper-division standing; department approval</td>\n",
       "      <td>[]</td>\n",
       "    </tr>\n",
       "    <tr>\n",
       "      <th>3</th>\n",
       "      <td>AIP 197F</td>\n",
       "      <td>AIP</td>\n",
       "      <td>Academic Internship Program—Foreign (4, 8, 12)</td>\n",
       "      <td>4.0</td>\n",
       "      <td>Individual placements for field learning oppor...</td>\n",
       "      <td>ninety units completed; 25 minimum cumulative ...</td>\n",
       "      <td>[]</td>\n",
       "    </tr>\n",
       "    <tr>\n",
       "      <th>4</th>\n",
       "      <td>AIP 197P</td>\n",
       "      <td>AIP</td>\n",
       "      <td>Public Service Internship (4, 8, 12)</td>\n",
       "      <td>4.0</td>\n",
       "      <td>Individual placements for field learning perfo...</td>\n",
       "      <td>ninety units completed; 25 minimum cumulative ...</td>\n",
       "      <td>[]</td>\n",
       "    </tr>\n",
       "    <tr>\n",
       "      <th>...</th>\n",
       "      <td>...</td>\n",
       "      <td>...</td>\n",
       "      <td>...</td>\n",
       "      <td>...</td>\n",
       "      <td>...</td>\n",
       "      <td>...</td>\n",
       "      <td>...</td>\n",
       "    </tr>\n",
       "    <tr>\n",
       "      <th>6302</th>\n",
       "      <td>WCWP 10B</td>\n",
       "      <td>WCWP</td>\n",
       "      <td>The Writing Course B (4)</td>\n",
       "      <td>4.0</td>\n",
       "      <td>A seminar-style course in reading and writing ...</td>\n",
       "      <td>satisfaction of WCWP 10A and must be a Warren ...</td>\n",
       "      <td>[WCWP 10A]</td>\n",
       "    </tr>\n",
       "    <tr>\n",
       "      <th>6303</th>\n",
       "      <td>WCWP 100</td>\n",
       "      <td>WCWP</td>\n",
       "      <td>Academic Writing (4)</td>\n",
       "      <td>4.0</td>\n",
       "      <td>An upper-division workshop course in argumenta...</td>\n",
       "      <td>junior/senior standing and must be a Warren Co...</td>\n",
       "      <td>[]</td>\n",
       "    </tr>\n",
       "    <tr>\n",
       "      <th>6304</th>\n",
       "      <td>WCWP 160</td>\n",
       "      <td>WCWP</td>\n",
       "      <td>Technical Writing for Scientists and Engineers...</td>\n",
       "      <td>4.0</td>\n",
       "      <td>An upper-division workshop-style writing cours...</td>\n",
       "      <td>junior/senior standing</td>\n",
       "      <td>[]</td>\n",
       "    </tr>\n",
       "    <tr>\n",
       "      <th>6305</th>\n",
       "      <td>WARR 189</td>\n",
       "      <td>WARR</td>\n",
       "      <td>Academic Mentoring and the Writing Process (2)</td>\n",
       "      <td>2.0</td>\n",
       "      <td>Students will gain a fundamental understanding...</td>\n",
       "      <td>permission of instructor is required to enroll</td>\n",
       "      <td>[]</td>\n",
       "    </tr>\n",
       "    <tr>\n",
       "      <th>6306</th>\n",
       "      <td>WCWP 500</td>\n",
       "      <td>WCWP</td>\n",
       "      <td>Apprentice Teaching in WCWP (2 or 4)</td>\n",
       "      <td>2.0</td>\n",
       "      <td>Consideration of pedagogical methods appropria...</td>\n",
       "      <td>graduate standing</td>\n",
       "      <td>[]</td>\n",
       "    </tr>\n",
       "  </tbody>\n",
       "</table>\n",
       "<p>6307 rows × 7 columns</p>\n",
       "</div>"
      ],
      "text/plain": [
       "           code  dept                                              title  \\\n",
       "0        AIP 97   AIP                         Academic Internship (2, 4)   \n",
       "1       AIP 197   AIP   Academic Internship Program (2, 4, 6, 8, 10, 12)   \n",
       "2     AIP 197DC   AIP         UCDC: Washington, DC Internship (6, 8, 10)   \n",
       "3      AIP 197F   AIP     Academic Internship Program—Foreign (4, 8, 12)   \n",
       "4      AIP 197P   AIP               Public Service Internship (4, 8, 12)   \n",
       "...         ...   ...                                                ...   \n",
       "6302   WCWP 10B  WCWP                           The Writing Course B (4)   \n",
       "6303   WCWP 100  WCWP                               Academic Writing (4)   \n",
       "6304   WCWP 160  WCWP  Technical Writing for Scientists and Engineers...   \n",
       "6305   WARR 189  WARR     Academic Mentoring and the Writing Process (2)   \n",
       "6306   WCWP 500  WCWP               Apprentice Teaching in WCWP (2 or 4)   \n",
       "\n",
       "      min_units                                        description  \\\n",
       "0           2.0  Individual placements for field learning. Must...   \n",
       "1           2.0  Individual internship placements integrated wi...   \n",
       "2           6.0  This internship is attached to the University ...   \n",
       "3           4.0  Individual placements for field learning oppor...   \n",
       "4           4.0  Individual placements for field learning perfo...   \n",
       "...         ...                                                ...   \n",
       "6302        4.0  A seminar-style course in reading and writing ...   \n",
       "6303        4.0  An upper-division workshop course in argumenta...   \n",
       "6304        4.0  An upper-division workshop-style writing cours...   \n",
       "6305        2.0  Students will gain a fundamental understanding...   \n",
       "6306        2.0  Consideration of pedagogical methods appropria...   \n",
       "\n",
       "                                                prereqs prereq_list  \n",
       "0     lower-division standing, completion of thirty ...          []  \n",
       "1          upper-division standing; department approval          []  \n",
       "2          upper-division standing; department approval          []  \n",
       "3     ninety units completed; 25 minimum cumulative ...          []  \n",
       "4     ninety units completed; 25 minimum cumulative ...          []  \n",
       "...                                                 ...         ...  \n",
       "6302  satisfaction of WCWP 10A and must be a Warren ...  [WCWP 10A]  \n",
       "6303  junior/senior standing and must be a Warren Co...          []  \n",
       "6304                             junior/senior standing          []  \n",
       "6305     permission of instructor is required to enroll          []  \n",
       "6306                                  graduate standing          []  \n",
       "\n",
       "[6307 rows x 7 columns]"
      ]
     },
     "execution_count": 12,
     "metadata": {},
     "output_type": "execute_result"
    }
   ],
   "source": [
    "df['prereq_list'] = lists\n",
    "df"
   ]
  },
  {
   "cell_type": "code",
   "execution_count": 13,
   "metadata": {},
   "outputs": [],
   "source": [
    "colormap = {}\n",
    "for dept in df['dept'].unique():\n",
    "    colormap[dept] = '#%02x%02x%02x' % tuple(random.choice(range(32,256,32)) for _ in range(3))\n",
    "df['color'] = df['dept'].apply(lambda x: colormap[x])"
   ]
  },
  {
   "cell_type": "code",
   "execution_count": 14,
   "metadata": {},
   "outputs": [],
   "source": [
    "# df.to_csv('courses_with_prereqs.csv')"
   ]
  },
  {
   "cell_type": "code",
   "execution_count": 15,
   "metadata": {},
   "outputs": [],
   "source": [
    "# df = pd.read_csv('courses_with_prereqs.csv').drop(columns = ['Unnamed: 0'])\n",
    "# df"
   ]
  },
  {
   "cell_type": "code",
   "execution_count": 16,
   "metadata": {},
   "outputs": [],
   "source": [
    "df['fulltitle'] = df['code'].str.cat(df['title'], sep = '. ')"
   ]
  },
  {
   "cell_type": "code",
   "execution_count": 17,
   "metadata": {},
   "outputs": [
    {
     "data": {
      "text/plain": [
       "6271"
      ]
     },
     "execution_count": 17,
     "metadata": {},
     "output_type": "execute_result"
    }
   ],
   "source": [
    "nodes = df[['code', 'fulltitle']].copy(deep = True).drop_duplicates(subset = ['code'])\n",
    "nodes.columns = ['id', 'label']\n",
    "nodes.to_csv('data/nodes.csv', index = False)\n",
    "len(nodes)"
   ]
  },
  {
   "cell_type": "code",
   "execution_count": 18,
   "metadata": {},
   "outputs": [],
   "source": [
    "titles = df[['code', 'title']].drop_duplicates(subset = ['code'])['title']\n",
    "colors = df[['code', 'color']].drop_duplicates(subset = ['code'])['color']"
   ]
  },
  {
   "cell_type": "code",
   "execution_count": 19,
   "metadata": {},
   "outputs": [],
   "source": [
    "edges = []\n",
    "for i in range(len(df)):\n",
    "    row = df.iloc[i]\n",
    "    for j in row['prereq_list']:\n",
    "        edges.append({'source' : j, 'target' : row['code']})"
   ]
  },
  {
   "cell_type": "code",
   "execution_count": 20,
   "metadata": {},
   "outputs": [],
   "source": [
    "pd.DataFrame(edges).drop_duplicates().to_csv('data/edges.csv', index = False)"
   ]
  },
  {
   "cell_type": "code",
   "execution_count": 21,
   "metadata": {},
   "outputs": [
    {
     "data": {
      "text/plain": [
       "MATH 18      65\n",
       "COMM 10      60\n",
       "MATH 31AH    56\n",
       "COMM 100A    47\n",
       "MATH 20C     36\n",
       "             ..\n",
       "CLRE 254      1\n",
       "EDS 117       1\n",
       "CHIN 20BD     1\n",
       "CSE 5A        1\n",
       "PHIL 110      1\n",
       "Name: source, Length: 1062, dtype: int64"
      ]
     },
     "execution_count": 21,
     "metadata": {},
     "output_type": "execute_result"
    }
   ],
   "source": [
    "edge_df = pd.DataFrame(edges)\n",
    "out_degree = edge_df['source'].value_counts()\n",
    "out_degree"
   ]
  },
  {
   "cell_type": "code",
   "execution_count": 113,
   "metadata": {},
   "outputs": [],
   "source": [
    "def get_out_degree(course):\n",
    "    try:\n",
    "        return 1 + 4 * out_degree[course]\n",
    "    except:\n",
    "        return 1\n",
    "\n",
    "nodes['size'] = nodes['id'].apply(get_out_degree)\n",
    "nodes['x'] = [random.randint(0,500) for i in range(len(nodes))]\n",
    "nodes['y'] = [random.randint(0,500) for i in range(len(nodes))]\n",
    "nodes['title'] = titles\n",
    "nodes['dept'] = nodes['id'].str.split().str.get(0)\n",
    "nodes['color'] = colors"
   ]
  },
  {
   "cell_type": "code",
   "execution_count": 114,
   "metadata": {},
   "outputs": [],
   "source": [
    "node_json = json.loads(nodes.to_json(orient = 'records'))"
   ]
  },
  {
   "cell_type": "code",
   "execution_count": 115,
   "metadata": {},
   "outputs": [],
   "source": [
    "edge_df['id'] = edge_df.index\n",
    "edge_df['source_dept'] = edge_df['source'].str.split().str.get(0)\n",
    "edge_df['target_dept'] = edge_df['target'].str.split().str.get(0)\n",
    "edge_df['type'] = ['arrow'] * len(edge_df)\n",
    "edge_json = json.loads(edge_df.to_json(orient = 'records'))"
   ]
  },
  {
   "cell_type": "code",
   "execution_count": 116,
   "metadata": {},
   "outputs": [],
   "source": [
    "graph_json = {\n",
    "    'nodes' : node_json,\n",
    "    'edges' : edge_json\n",
    "}\n",
    "\n",
    "json_3d = {\n",
    "    'nodes' : node_json,\n",
    "    'links' : edge_json\n",
    "}"
   ]
  },
  {
   "cell_type": "code",
   "execution_count": 117,
   "metadata": {},
   "outputs": [],
   "source": [
    "with open(\"data/data.js\", \"w\") as outfile:  \n",
    "    outfile.write('let data = ' + json.dumps(graph_json))\n",
    "    \n",
    "with open(\"data/data_3d.js\", \"w\") as outfile:  \n",
    "    outfile.write('let data_3d = ' + json.dumps(json_3d))"
   ]
  },
  {
   "cell_type": "code",
   "execution_count": 118,
   "metadata": {},
   "outputs": [
    {
     "data": {
      "text/plain": [
       "MATH 18      65\n",
       "COMM 10      60\n",
       "MATH 31AH    56\n",
       "COMM 100A    47\n",
       "MATH 20C     36\n",
       "PHYS 2A      35\n",
       "MATH 20D     35\n",
       "LTSP 50A     35\n",
       "MATH 20A     30\n",
       "BILD 1       29\n",
       "CSE 11       22\n",
       "MATH 180A    22\n",
       "CSE 100      21\n",
       "MATH 10A     21\n",
       "CSE 8B       20\n",
       "Name: source, dtype: int64"
      ]
     },
     "execution_count": 118,
     "metadata": {},
     "output_type": "execute_result"
    }
   ],
   "source": [
    "out_degree[0:15]"
   ]
  },
  {
   "cell_type": "code",
   "execution_count": null,
   "metadata": {},
   "outputs": [],
   "source": []
  }
 ],
 "metadata": {
  "kernelspec": {
   "display_name": "Python 3",
   "language": "python",
   "name": "python3"
  },
  "language_info": {
   "codemirror_mode": {
    "name": "ipython",
    "version": 3
   },
   "file_extension": ".py",
   "mimetype": "text/x-python",
   "name": "python",
   "nbconvert_exporter": "python",
   "pygments_lexer": "ipython3",
   "version": "3.8.2"
  }
 },
 "nbformat": 4,
 "nbformat_minor": 4
}
